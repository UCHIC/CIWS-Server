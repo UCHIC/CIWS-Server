{
 "cells": [
  {
   "cell_type": "markdown",
   "source": [
    "## Posting files to the web server\n",
    "\n",
    "Using the `requests` library:"
   ],
   "metadata": {
    "collapsed": false
   }
  },
  {
   "cell_type": "code",
   "metadata": {
    "collapsed": true,
    "pycharm": {
     "is_executing": false,
     "name": "#%%\n"
    }
   },
   "source": [
    "import requests\n",
    "\n",
    "# define urls for token generation and file upload\n",
    "upload_token_url = 'http://ciwsdbs.uwrl.usu.edu/auth'\n",
    "upload_url = 'http://ciwsdbs.uwrl.usu.edu/data-api'\n",
    "client_passcode = 'XhTVtPjQWyw64awm7td+3ygiIpLDkE3uBaHSc7Yz/AA='\n",
    "\n",
    "# store file and filename for server request\n",
    "with open('series_data.csv', 'rb') as data_file:\n",
    "    files = [('data_file[]', data_file), ]\n",
    "filenames = ['series_data.csv', ]\n",
    "\n",
    "# make requests\n",
    "upload_token = requests.post(upload_token_url, data={'token': client_passcode, 'filenames': filenames})\n",
    "upload_response = requests.post(upload_url, headers={'Authentication': f'Bearer {upload_token.text}'}, files=files)"
   ],
   "execution_count": null,
   "outputs": []
  },
  {
   "cell_type": "markdown",
   "source": [
    "The success/error messages from the server are stored in the response:"
   ],
   "metadata": {
    "collapsed": false,
    "pycharm": {
     "name": "#%% md\n"
    }
   }
  },
  {
   "cell_type": "code",
   "execution_count": null,
   "outputs": [],
   "source": [
    "print(upload_response.text)"
   ],
   "metadata": {
    "collapsed": false,
    "pycharm": {
     "name": "#%%\n"
    }
   }
  },
  {
   "cell_type": "markdown",
   "source": [
    "To send multiple files to the web service, just add them to the list all under the name `data_file[]` \n",
    "(this is the name of the field, not to be confused with the filename.)"
   ],
   "metadata": {
    "collapsed": false,
    "pycharm": {
     "name": "#%% md\n"
    }
   }
  },
  {
   "cell_type": "code",
   "execution_count": null,
   "outputs": [],
   "source": [
    "files = [\n",
    "    ('data_file[]', open('series_data1.csv', 'rb')), \n",
    "    ('data_file[]', open('series_data2.csv', 'rb')),\n",
    "    ('data_file[]', open('series_data3.csv', 'rb')), ]\n",
    "filenames = ['series_data1.csv', 'series_data2.csv', 'series_data3.csv', ]"
   ],
   "metadata": {
    "collapsed": false,
    "pycharm": {
     "name": "#%%\n"
    }
   }
  }
 ],
 "metadata": {
  "kernelspec": {
   "display_name": "Python 3",
   "language": "python",
   "name": "python3"
  },
  "language_info": {
   "codemirror_mode": {
    "name": "ipython",
    "version": 2
   },
   "file_extension": ".py",
   "mimetype": "text/x-python",
   "name": "python",
   "nbconvert_exporter": "python",
   "pygments_lexer": "ipython2",
   "version": "2.7.6"
  },
  "pycharm": {
   "stem_cell": {
    "cell_type": "raw",
    "source": [],
    "metadata": {
     "collapsed": false
    }
   }
  }
 },
 "nbformat": 4,
 "nbformat_minor": 0
}