{
 "cells": [
  {
   "cell_type": "markdown",
   "source": [
    "## Posting files to the web server\n",
    "\n",
    "Using the `requests` library:"
   ],
   "metadata": {
    "collapsed": false
   }
  },
  {
   "cell_type": "code",
   "metadata": {
    "collapsed": true,
    "pycharm": {
     "is_executing": false,
     "name": "#%%\n"
    }
   },
   "source": [
    "import requests\n",
    "\n",
    "url = 'http://ciwsdbs.uwrl.usu.edu/data-api'\n",
    "with open('timeseriesdata.csv', 'rb') as data_file:\n",
    "    files = [('data_file[]', data_file), ]\n",
    "    request = requests.post(url, files=files)"
   ],
   "execution_count": null,
   "outputs": []
  },
  {
   "cell_type": "markdown",
   "source": [
    "The success/error messages from the server are stored in the response:"
   ],
   "metadata": {
    "collapsed": false,
    "pycharm": {
     "name": "#%% md\n"
    }
   }
  },
  {
   "cell_type": "code",
   "execution_count": null,
   "outputs": [],
   "source": [
    "print(request.text)"
   ],
   "metadata": {
    "collapsed": false,
    "pycharm": {
     "name": "#%%\n"
    }
   }
  },
  {
   "cell_type": "markdown",
   "source": [
    "To send multiple files to the web service, just add them to the list all under the name `data_file[]` \n",
    "(this is the name of the field, not to be confused with the filename.)"
   ],
   "metadata": {
    "collapsed": false,
    "pycharm": {
     "name": "#%% md\n"
    }
   }
  },
  {
   "cell_type": "code",
   "execution_count": null,
   "outputs": [],
   "source": [
    "files = [\n",
    "    ('data_file[]', open('timeseriesdata1.csv', 'rb')), \n",
    "    ('data_file[]', open('timeseriesdata2.csv', 'rb')),\n",
    "    ('data_file[]', open('timeseriesdata3.csv', 'rb')), ]\n"
   ],
   "metadata": {
    "collapsed": false,
    "pycharm": {
     "name": "#%%\n"
    }
   }
  }
 ],
 "metadata": {
  "kernelspec": {
   "display_name": "Python 3",
   "language": "python",
   "name": "python3"
  },
  "language_info": {
   "codemirror_mode": {
    "name": "ipython",
    "version": 2
   },
   "file_extension": ".py",
   "mimetype": "text/x-python",
   "name": "python",
   "nbconvert_exporter": "python",
   "pygments_lexer": "ipython2",
   "version": "2.7.6"
  },
  "pycharm": {
   "stem_cell": {
    "cell_type": "raw",
    "source": [],
    "metadata": {
     "collapsed": false
    }
   }
  }
 },
 "nbformat": 4,
 "nbformat_minor": 0
}